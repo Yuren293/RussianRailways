{
 "cells": [
  {
   "cell_type": "code",
   "execution_count": 1,
   "metadata": {},
   "outputs": [],
   "source": [
    "import pandas as pd\n",
    "from tqdm.notebook import tqdm\n",
    "import numpy as np\n",
    "import matplotlib.pyplot as plt\n",
    "import tensorflow as tf\n",
    "from tensorflow import keras\n",
    "import sklearn\n",
    "from sklearn.cluster import KMeans\n",
    "from sklearn.preprocessing import MinMaxScaler,StandardScaler"
   ]
  },
  {
   "cell_type": "code",
   "execution_count": 2,
   "metadata": {},
   "outputs": [],
   "source": [
    "data = pd.read_csv('E:\\study\\Мисис\\Хакатон 3 РЖД\\statistics-07-20-upd.csv', sep = ';')"
   ]
  },
  {
   "cell_type": "markdown",
   "metadata": {},
   "source": [
    "# Анализ данных"
   ]
  },
  {
   "cell_type": "code",
   "execution_count": 3,
   "metadata": {},
   "outputs": [
    {
     "data": {
      "text/html": [
       "<div>\n",
       "<style scoped>\n",
       "    .dataframe tbody tr th:only-of-type {\n",
       "        vertical-align: middle;\n",
       "    }\n",
       "\n",
       "    .dataframe tbody tr th {\n",
       "        vertical-align: top;\n",
       "    }\n",
       "\n",
       "    .dataframe thead th {\n",
       "        text-align: right;\n",
       "    }\n",
       "</style>\n",
       "<table border=\"1\" class=\"dataframe\">\n",
       "  <thead>\n",
       "    <tr style=\"text-align: right;\">\n",
       "      <th></th>\n",
       "      <th>index_train</th>\n",
       "      <th>length</th>\n",
       "      <th>car_number</th>\n",
       "      <th>destination_esr</th>\n",
       "      <th>adm</th>\n",
       "      <th>danger</th>\n",
       "      <th>gruz</th>\n",
       "      <th>loaded</th>\n",
       "      <th>operation_car</th>\n",
       "      <th>operation_date</th>\n",
       "      <th>...</th>\n",
       "      <th>operation_st_id</th>\n",
       "      <th>operation_train</th>\n",
       "      <th>receiver</th>\n",
       "      <th>rodvag</th>\n",
       "      <th>rod_train</th>\n",
       "      <th>sender</th>\n",
       "      <th>ssp_station_esr</th>\n",
       "      <th>ssp_station_id</th>\n",
       "      <th>tare_weight</th>\n",
       "      <th>weight_brutto</th>\n",
       "    </tr>\n",
       "  </thead>\n",
       "  <tbody>\n",
       "    <tr>\n",
       "      <td>0</td>\n",
       "      <td>NaN</td>\n",
       "      <td>NaN</td>\n",
       "      <td>62827035</td>\n",
       "      <td>984700.0</td>\n",
       "      <td>NaN</td>\n",
       "      <td>NaN</td>\n",
       "      <td>NaN</td>\n",
       "      <td>2.0</td>\n",
       "      <td>81.0</td>\n",
       "      <td>2020-07-16 03:40:00</td>\n",
       "      <td>...</td>\n",
       "      <td>2.000039e+09</td>\n",
       "      <td>NaN</td>\n",
       "      <td>NaN</td>\n",
       "      <td>NaN</td>\n",
       "      <td>NaN</td>\n",
       "      <td>NaN</td>\n",
       "      <td>NaN</td>\n",
       "      <td>NaN</td>\n",
       "      <td>NaN</td>\n",
       "      <td>NaN</td>\n",
       "    </tr>\n",
       "    <tr>\n",
       "      <td>1</td>\n",
       "      <td>NaN</td>\n",
       "      <td>1.0</td>\n",
       "      <td>62827035</td>\n",
       "      <td>862201.0</td>\n",
       "      <td>20.0</td>\n",
       "      <td>NaN</td>\n",
       "      <td>421034.0</td>\n",
       "      <td>NaN</td>\n",
       "      <td>18.0</td>\n",
       "      <td>2020-07-16 14:10:00</td>\n",
       "      <td>...</td>\n",
       "      <td>2.002026e+09</td>\n",
       "      <td>NaN</td>\n",
       "      <td>93149858.0</td>\n",
       "      <td>60.0</td>\n",
       "      <td>NaN</td>\n",
       "      <td>68398528.0</td>\n",
       "      <td>NaN</td>\n",
       "      <td>NaN</td>\n",
       "      <td>249.0</td>\n",
       "      <td>NaN</td>\n",
       "    </tr>\n",
       "    <tr>\n",
       "      <td>2</td>\n",
       "      <td>NaN</td>\n",
       "      <td>NaN</td>\n",
       "      <td>62827316</td>\n",
       "      <td>863007.0</td>\n",
       "      <td>NaN</td>\n",
       "      <td>NaN</td>\n",
       "      <td>NaN</td>\n",
       "      <td>2.0</td>\n",
       "      <td>80.0</td>\n",
       "      <td>2020-07-16 14:50:00</td>\n",
       "      <td>...</td>\n",
       "      <td>2.001933e+09</td>\n",
       "      <td>NaN</td>\n",
       "      <td>NaN</td>\n",
       "      <td>NaN</td>\n",
       "      <td>NaN</td>\n",
       "      <td>NaN</td>\n",
       "      <td>NaN</td>\n",
       "      <td>NaN</td>\n",
       "      <td>NaN</td>\n",
       "      <td>NaN</td>\n",
       "    </tr>\n",
       "    <tr>\n",
       "      <td>3</td>\n",
       "      <td>NaN</td>\n",
       "      <td>NaN</td>\n",
       "      <td>62827381</td>\n",
       "      <td>862108.0</td>\n",
       "      <td>NaN</td>\n",
       "      <td>NaN</td>\n",
       "      <td>NaN</td>\n",
       "      <td>2.0</td>\n",
       "      <td>80.0</td>\n",
       "      <td>2020-07-16 14:16:00</td>\n",
       "      <td>...</td>\n",
       "      <td>2.001931e+09</td>\n",
       "      <td>NaN</td>\n",
       "      <td>NaN</td>\n",
       "      <td>NaN</td>\n",
       "      <td>NaN</td>\n",
       "      <td>NaN</td>\n",
       "      <td>NaN</td>\n",
       "      <td>NaN</td>\n",
       "      <td>NaN</td>\n",
       "      <td>NaN</td>\n",
       "    </tr>\n",
       "    <tr>\n",
       "      <td>4</td>\n",
       "      <td>NaN</td>\n",
       "      <td>1.0</td>\n",
       "      <td>62845730</td>\n",
       "      <td>887904.0</td>\n",
       "      <td>20.0</td>\n",
       "      <td>NaN</td>\n",
       "      <td>421034.0</td>\n",
       "      <td>NaN</td>\n",
       "      <td>19.0</td>\n",
       "      <td>2020-07-16 15:15:00</td>\n",
       "      <td>...</td>\n",
       "      <td>2.000039e+09</td>\n",
       "      <td>NaN</td>\n",
       "      <td>81195103.0</td>\n",
       "      <td>60.0</td>\n",
       "      <td>NaN</td>\n",
       "      <td>52682351.0</td>\n",
       "      <td>NaN</td>\n",
       "      <td>NaN</td>\n",
       "      <td>248.0</td>\n",
       "      <td>NaN</td>\n",
       "    </tr>\n",
       "  </tbody>\n",
       "</table>\n",
       "<p>5 rows × 21 columns</p>\n",
       "</div>"
      ],
      "text/plain": [
       "   index_train  length  car_number  destination_esr   adm  danger      gruz  \\\n",
       "0          NaN     NaN    62827035         984700.0   NaN     NaN       NaN   \n",
       "1          NaN     1.0    62827035         862201.0  20.0     NaN  421034.0   \n",
       "2          NaN     NaN    62827316         863007.0   NaN     NaN       NaN   \n",
       "3          NaN     NaN    62827381         862108.0   NaN     NaN       NaN   \n",
       "4          NaN     1.0    62845730         887904.0  20.0     NaN  421034.0   \n",
       "\n",
       "   loaded  operation_car       operation_date  ...  operation_st_id  \\\n",
       "0     2.0           81.0  2020-07-16 03:40:00  ...     2.000039e+09   \n",
       "1     NaN           18.0  2020-07-16 14:10:00  ...     2.002026e+09   \n",
       "2     2.0           80.0  2020-07-16 14:50:00  ...     2.001933e+09   \n",
       "3     2.0           80.0  2020-07-16 14:16:00  ...     2.001931e+09   \n",
       "4     NaN           19.0  2020-07-16 15:15:00  ...     2.000039e+09   \n",
       "\n",
       "   operation_train    receiver  rodvag  rod_train      sender  \\\n",
       "0              NaN         NaN     NaN        NaN         NaN   \n",
       "1              NaN  93149858.0    60.0        NaN  68398528.0   \n",
       "2              NaN         NaN     NaN        NaN         NaN   \n",
       "3              NaN         NaN     NaN        NaN         NaN   \n",
       "4              NaN  81195103.0    60.0        NaN  52682351.0   \n",
       "\n",
       "   ssp_station_esr  ssp_station_id  tare_weight  weight_brutto  \n",
       "0              NaN             NaN          NaN            NaN  \n",
       "1              NaN             NaN        249.0            NaN  \n",
       "2              NaN             NaN          NaN            NaN  \n",
       "3              NaN             NaN          NaN            NaN  \n",
       "4              NaN             NaN        248.0            NaN  \n",
       "\n",
       "[5 rows x 21 columns]"
      ]
     },
     "execution_count": 3,
     "metadata": {},
     "output_type": "execute_result"
    }
   ],
   "source": [
    "data.head()"
   ]
  },
  {
   "cell_type": "code",
   "execution_count": 4,
   "metadata": {},
   "outputs": [],
   "source": [
    "def missing_data(data):\n",
    "    total = data.isnull().sum().sort_values(ascending = False)\n",
    "    percent = (data.isnull().sum()/data.isnull().count()*100).sort_values(ascending = False)\n",
    "    return pd.concat([total, percent], axis = 1, keys = ['Total', 'Percent'])"
   ]
  },
  {
   "cell_type": "code",
   "execution_count": 5,
   "metadata": {},
   "outputs": [],
   "source": [
    "def find_duplicates_by_columns(df):  # функция для поиска дубликатов по столбцам\n",
    "    duplicates = []\n",
    "    column = []\n",
    "    for i in df.columns:\n",
    "        duplicates.append(df[i].duplicated().sum())\n",
    "        column.append(i)\n",
    "    duplicates = pd.Series(duplicates) \n",
    "    column = pd.Series(column) \n",
    "    return pd.concat([column, duplicates], axis = 1,\n",
    "                     keys = ['column', 'duplicates']).sort_values(by = 'duplicates',ascending = False).head(40)"
   ]
  },
  {
   "cell_type": "code",
   "execution_count": 6,
   "metadata": {},
   "outputs": [
    {
     "data": {
      "text/html": [
       "<div>\n",
       "<style scoped>\n",
       "    .dataframe tbody tr th:only-of-type {\n",
       "        vertical-align: middle;\n",
       "    }\n",
       "\n",
       "    .dataframe tbody tr th {\n",
       "        vertical-align: top;\n",
       "    }\n",
       "\n",
       "    .dataframe thead th {\n",
       "        text-align: right;\n",
       "    }\n",
       "</style>\n",
       "<table border=\"1\" class=\"dataframe\">\n",
       "  <thead>\n",
       "    <tr style=\"text-align: right;\">\n",
       "      <th></th>\n",
       "      <th>Total</th>\n",
       "      <th>Percent</th>\n",
       "    </tr>\n",
       "  </thead>\n",
       "  <tbody>\n",
       "    <tr>\n",
       "      <td>danger</td>\n",
       "      <td>4077929</td>\n",
       "      <td>97.327249</td>\n",
       "    </tr>\n",
       "    <tr>\n",
       "      <td>adm</td>\n",
       "      <td>3085197</td>\n",
       "      <td>73.633880</td>\n",
       "    </tr>\n",
       "    <tr>\n",
       "      <td>tare_weight</td>\n",
       "      <td>3085197</td>\n",
       "      <td>73.633880</td>\n",
       "    </tr>\n",
       "    <tr>\n",
       "      <td>rod_train</td>\n",
       "      <td>2623663</td>\n",
       "      <td>62.618526</td>\n",
       "    </tr>\n",
       "    <tr>\n",
       "      <td>weight_brutto</td>\n",
       "      <td>2623318</td>\n",
       "      <td>62.610292</td>\n",
       "    </tr>\n",
       "    <tr>\n",
       "      <td>ssp_station_id</td>\n",
       "      <td>2255185</td>\n",
       "      <td>53.824123</td>\n",
       "    </tr>\n",
       "    <tr>\n",
       "      <td>operation_train</td>\n",
       "      <td>2222194</td>\n",
       "      <td>53.036732</td>\n",
       "    </tr>\n",
       "    <tr>\n",
       "      <td>index_train</td>\n",
       "      <td>2222193</td>\n",
       "      <td>53.036708</td>\n",
       "    </tr>\n",
       "    <tr>\n",
       "      <td>ssp_station_esr</td>\n",
       "      <td>2222193</td>\n",
       "      <td>53.036708</td>\n",
       "    </tr>\n",
       "    <tr>\n",
       "      <td>gruz</td>\n",
       "      <td>1779461</td>\n",
       "      <td>42.470098</td>\n",
       "    </tr>\n",
       "    <tr>\n",
       "      <td>receiver</td>\n",
       "      <td>1764323</td>\n",
       "      <td>42.108802</td>\n",
       "    </tr>\n",
       "    <tr>\n",
       "      <td>sender</td>\n",
       "      <td>1764323</td>\n",
       "      <td>42.108802</td>\n",
       "    </tr>\n",
       "    <tr>\n",
       "      <td>length</td>\n",
       "      <td>1715134</td>\n",
       "      <td>40.934816</td>\n",
       "    </tr>\n",
       "    <tr>\n",
       "      <td>loaded</td>\n",
       "      <td>1645999</td>\n",
       "      <td>39.284783</td>\n",
       "    </tr>\n",
       "    <tr>\n",
       "      <td>rodvag</td>\n",
       "      <td>1117475</td>\n",
       "      <td>26.670589</td>\n",
       "    </tr>\n",
       "    <tr>\n",
       "      <td>operation_car</td>\n",
       "      <td>541281</td>\n",
       "      <td>12.918663</td>\n",
       "    </tr>\n",
       "    <tr>\n",
       "      <td>destination_esr</td>\n",
       "      <td>61421</td>\n",
       "      <td>1.465925</td>\n",
       "    </tr>\n",
       "    <tr>\n",
       "      <td>operation_st_id</td>\n",
       "      <td>598</td>\n",
       "      <td>0.014272</td>\n",
       "    </tr>\n",
       "    <tr>\n",
       "      <td>operation_st_esr</td>\n",
       "      <td>598</td>\n",
       "      <td>0.014272</td>\n",
       "    </tr>\n",
       "    <tr>\n",
       "      <td>operation_date</td>\n",
       "      <td>0</td>\n",
       "      <td>0.000000</td>\n",
       "    </tr>\n",
       "    <tr>\n",
       "      <td>car_number</td>\n",
       "      <td>0</td>\n",
       "      <td>0.000000</td>\n",
       "    </tr>\n",
       "  </tbody>\n",
       "</table>\n",
       "</div>"
      ],
      "text/plain": [
       "                    Total    Percent\n",
       "danger            4077929  97.327249\n",
       "adm               3085197  73.633880\n",
       "tare_weight       3085197  73.633880\n",
       "rod_train         2623663  62.618526\n",
       "weight_brutto     2623318  62.610292\n",
       "ssp_station_id    2255185  53.824123\n",
       "operation_train   2222194  53.036732\n",
       "index_train       2222193  53.036708\n",
       "ssp_station_esr   2222193  53.036708\n",
       "gruz              1779461  42.470098\n",
       "receiver          1764323  42.108802\n",
       "sender            1764323  42.108802\n",
       "length            1715134  40.934816\n",
       "loaded            1645999  39.284783\n",
       "rodvag            1117475  26.670589\n",
       "operation_car      541281  12.918663\n",
       "destination_esr     61421   1.465925\n",
       "operation_st_id       598   0.014272\n",
       "operation_st_esr      598   0.014272\n",
       "operation_date          0   0.000000\n",
       "car_number              0   0.000000"
      ]
     },
     "execution_count": 6,
     "metadata": {},
     "output_type": "execute_result"
    }
   ],
   "source": [
    "missing_data(data)"
   ]
  },
  {
   "cell_type": "code",
   "execution_count": 7,
   "metadata": {},
   "outputs": [
    {
     "data": {
      "text/html": [
       "<div>\n",
       "<style scoped>\n",
       "    .dataframe tbody tr th:only-of-type {\n",
       "        vertical-align: middle;\n",
       "    }\n",
       "\n",
       "    .dataframe tbody tr th {\n",
       "        vertical-align: top;\n",
       "    }\n",
       "\n",
       "    .dataframe thead th {\n",
       "        text-align: right;\n",
       "    }\n",
       "</style>\n",
       "<table border=\"1\" class=\"dataframe\">\n",
       "  <thead>\n",
       "    <tr style=\"text-align: right;\">\n",
       "      <th></th>\n",
       "      <th>column</th>\n",
       "      <th>duplicates</th>\n",
       "    </tr>\n",
       "  </thead>\n",
       "  <tbody>\n",
       "    <tr>\n",
       "      <td>5</td>\n",
       "      <td>danger</td>\n",
       "      <td>4189913</td>\n",
       "    </tr>\n",
       "    <tr>\n",
       "      <td>7</td>\n",
       "      <td>loaded</td>\n",
       "      <td>4189911</td>\n",
       "    </tr>\n",
       "    <tr>\n",
       "      <td>14</td>\n",
       "      <td>rodvag</td>\n",
       "      <td>4189903</td>\n",
       "    </tr>\n",
       "    <tr>\n",
       "      <td>4</td>\n",
       "      <td>adm</td>\n",
       "      <td>4189901</td>\n",
       "    </tr>\n",
       "    <tr>\n",
       "      <td>12</td>\n",
       "      <td>operation_train</td>\n",
       "      <td>4189901</td>\n",
       "    </tr>\n",
       "    <tr>\n",
       "      <td>8</td>\n",
       "      <td>operation_car</td>\n",
       "      <td>4189894</td>\n",
       "    </tr>\n",
       "    <tr>\n",
       "      <td>15</td>\n",
       "      <td>rod_train</td>\n",
       "      <td>4189887</td>\n",
       "    </tr>\n",
       "    <tr>\n",
       "      <td>1</td>\n",
       "      <td>length</td>\n",
       "      <td>4189838</td>\n",
       "    </tr>\n",
       "    <tr>\n",
       "      <td>19</td>\n",
       "      <td>tare_weight</td>\n",
       "      <td>4189580</td>\n",
       "    </tr>\n",
       "    <tr>\n",
       "      <td>11</td>\n",
       "      <td>operation_st_id</td>\n",
       "      <td>4189170</td>\n",
       "    </tr>\n",
       "    <tr>\n",
       "      <td>10</td>\n",
       "      <td>operation_st_esr</td>\n",
       "      <td>4189170</td>\n",
       "    </tr>\n",
       "    <tr>\n",
       "      <td>18</td>\n",
       "      <td>ssp_station_id</td>\n",
       "      <td>4189077</td>\n",
       "    </tr>\n",
       "    <tr>\n",
       "      <td>17</td>\n",
       "      <td>ssp_station_esr</td>\n",
       "      <td>4189041</td>\n",
       "    </tr>\n",
       "    <tr>\n",
       "      <td>6</td>\n",
       "      <td>gruz</td>\n",
       "      <td>4188940</td>\n",
       "    </tr>\n",
       "    <tr>\n",
       "      <td>3</td>\n",
       "      <td>destination_esr</td>\n",
       "      <td>4187942</td>\n",
       "    </tr>\n",
       "    <tr>\n",
       "      <td>16</td>\n",
       "      <td>sender</td>\n",
       "      <td>4186485</td>\n",
       "    </tr>\n",
       "    <tr>\n",
       "      <td>13</td>\n",
       "      <td>receiver</td>\n",
       "      <td>4184246</td>\n",
       "    </tr>\n",
       "    <tr>\n",
       "      <td>20</td>\n",
       "      <td>weight_brutto</td>\n",
       "      <td>4183495</td>\n",
       "    </tr>\n",
       "    <tr>\n",
       "      <td>9</td>\n",
       "      <td>operation_date</td>\n",
       "      <td>4149472</td>\n",
       "    </tr>\n",
       "    <tr>\n",
       "      <td>0</td>\n",
       "      <td>index_train</td>\n",
       "      <td>4145945</td>\n",
       "    </tr>\n",
       "    <tr>\n",
       "      <td>2</td>\n",
       "      <td>car_number</td>\n",
       "      <td>3748667</td>\n",
       "    </tr>\n",
       "  </tbody>\n",
       "</table>\n",
       "</div>"
      ],
      "text/plain": [
       "              column  duplicates\n",
       "5             danger     4189913\n",
       "7             loaded     4189911\n",
       "14            rodvag     4189903\n",
       "4                adm     4189901\n",
       "12   operation_train     4189901\n",
       "8      operation_car     4189894\n",
       "15         rod_train     4189887\n",
       "1             length     4189838\n",
       "19       tare_weight     4189580\n",
       "11   operation_st_id     4189170\n",
       "10  operation_st_esr     4189170\n",
       "18    ssp_station_id     4189077\n",
       "17   ssp_station_esr     4189041\n",
       "6               gruz     4188940\n",
       "3    destination_esr     4187942\n",
       "16            sender     4186485\n",
       "13          receiver     4184246\n",
       "20     weight_brutto     4183495\n",
       "9     operation_date     4149472\n",
       "0        index_train     4145945\n",
       "2         car_number     3748667"
      ]
     },
     "execution_count": 7,
     "metadata": {},
     "output_type": "execute_result"
    }
   ],
   "source": [
    "find_duplicates_by_columns(data)"
   ]
  },
  {
   "cell_type": "markdown",
   "metadata": {},
   "source": [
    "# Предобработка"
   ]
  },
  {
   "cell_type": "code",
   "execution_count": 8,
   "metadata": {},
   "outputs": [
    {
     "data": {
      "text/plain": [
       "0         2020-07-16 03:40:00\n",
       "1         2020-07-16 14:10:00\n",
       "2         2020-07-16 14:50:00\n",
       "3         2020-07-16 14:16:00\n",
       "4         2020-07-16 15:15:00\n",
       "                  ...        \n",
       "4189910   2020-07-16 03:29:00\n",
       "4189911   2020-07-16 03:30:00\n",
       "4189912   2020-07-15 20:00:00\n",
       "4189913   2020-07-16 02:37:00\n",
       "4189914   2020-07-16 04:28:00\n",
       "Name: operation_date, Length: 4189915, dtype: datetime64[ns]"
      ]
     },
     "execution_count": 8,
     "metadata": {},
     "output_type": "execute_result"
    }
   ],
   "source": [
    "data.operation_date = pd.to_datetime(data.operation_date, format='%Y-%m-%d %H:%M')\n",
    "data.operation_date"
   ]
  },
  {
   "cell_type": "code",
   "execution_count": 9,
   "metadata": {},
   "outputs": [],
   "source": [
    "data.danger = data.danger.fillna(0)"
   ]
  },
  {
   "cell_type": "code",
   "execution_count": 10,
   "metadata": {},
   "outputs": [
    {
     "data": {
      "text/plain": [
       "(4189915, 21)"
      ]
     },
     "execution_count": 10,
     "metadata": {},
     "output_type": "execute_result"
    }
   ],
   "source": [
    "data.shape"
   ]
  },
  {
   "cell_type": "code",
   "execution_count": 11,
   "metadata": {},
   "outputs": [],
   "source": [
    "data.danger = data.danger.fillna(0)\n",
    "data = data.sort_values(by = ['operation_date'], ascending = True)\n",
    "data = data.reset_index(drop = True)"
   ]
  },
  {
   "cell_type": "markdown",
   "metadata": {},
   "source": [
    "#### Ряды будут выделяться так :"
   ]
  },
  {
   "attachments": {
    "kartinochka.png": {
     "image/png": "[encoded data removed]"
    }
   },
   "cell_type": "markdown",
   "metadata": {},
   "source": [
    "![kartinochka.png](attachment:kartinochka.png)"
   ]
  },
  {
   "cell_type": "markdown",
   "metadata": {},
   "source": [
    "# Получение всех подходящих условию опрераций включения вагонов в поезд для всех вагонов на всех станциях"
   ]
  },
  {
   "cell_type": "code",
   "execution_count": 12,
   "metadata": {},
   "outputs": [],
   "source": [
    "# возвращает список датафреймов со всеми операцифми по каждому уникальному вагону \n",
    "def get_data_cars(data):\n",
    "    \n",
    "    data_cars_stack = [] \n",
    "    cars_numbers = data['car_number'].unique()\n",
    "    print('Собираются датафреймы для каждого из {} уникальных вагонов :'.format(len(cars_numbers)))\n",
    "    for cars_number in tqdm(cars_numbers):\n",
    "        car_df = pd.DataFrame(data[data.car_number == cars_number].sort_values(by = ['operation_date'], ascending = True))\n",
    "        car_df = car_df.reset_index(drop=True)\n",
    "        data_cars_stack.append(car_df)\n",
    "        \n",
    "    return data_cars_stack #список датафрейфмов"
   ]
  },
  {
   "cell_type": "code",
   "execution_count": 13,
   "metadata": {},
   "outputs": [],
   "source": [
    "# принимает датафрейм со всеми операцифми по каждому уникальному вагону\n",
    "# возвращат список датафреймов, где каждый элемент - датафрейм одного уникального вагона на одной уникальной станции\n",
    "def split_data_car_into_stations(data_car):  \n",
    "    \n",
    "    data_cars_st_stack = []\n",
    "    st_esrS = data_car.operation_st_esr.unique()\n",
    "    for st_esr in st_esrS:\n",
    "        car_st_df = pd.DataFrame(data_car[data_car.operation_st_esr == st_esr].sort_values(by = ['operation_date'], ascending = True))\n",
    "        car_st_df = car_st_df.reset_index(drop = True)\n",
    "        data_cars_st_stack.append(car_st_df)\n",
    "    \n",
    "    return data_cars_st_stack # стек датафреймов одного вагона на разных станциях"
   ]
  },
  {
   "cell_type": "markdown",
   "metadata": {},
   "source": [
    "Для каждого датафрейма с данными об уникальном вагоне на уникальной станции за все время, ищутся operation_train in ([ 2., 62., 22., 42.] ), идем по наблюдениям назад по времени и ищем первую встречную operation_car == 4, идем по наблюдениям назад по времени до предыдущего отправления в operation_train и если в интервале есть операции погрузки/выгрузки до текущей операции включения, значит данную операцию включения в поезд берем, если же в интервале нет операций погрузки выгрузки, то перехожим к предыдущей операции включения и проверяем её интервал до отправления на наличие операций погрузки/выгрузки. Из нескольких подходящих вышеуказанному условию наблюдений внутри каждого интервала (между отправлениями поезда), в которых операция с вагоном == операция включения в поезд, берем только одну последнюю операцию включения в поезд.\n"
   ]
  },
  {
   "cell_type": "code",
   "execution_count": 2,
   "metadata": {},
   "outputs": [],
   "source": [
    "# принимает датафрейм с данными об уникальном вагоне на уникальной станции за все время\n",
    "# возвращает датафрейм с операциями включения, подходящими условию, для одного уникального вагона на одной уникальной станции\n",
    "def get_includes(data_car_st):\n",
    "    \n",
    "    buffer = []\n",
    "    for i in reversed(range(len(data_car_st))): # идем по последнним наблюдениям к боллее старым для каждого датафрейма с данными об уникальном вагоне на уникальной станции за все время\n",
    "        if (data_car_st.loc[i, 'operation_train'] in (2, 62, 22, 42)) & (i>0): # находим операцию отправления поезда\n",
    "            j = i-1\n",
    "            valid_inclusion_operations_indexes = [] #подходящие вагоны с операцией включения\n",
    "            while (data_car_st.loc[j, 'operation_train'] not in (2, 62, 22, 42)) & (j>0):# ограничиваем поиск операции включения предыдущей операцией отправления поезда\n",
    "                if data_car_st.loc[j, 'operation_car'] == 4:  #находим операции включения в поезд перед последней операцией отправления\n",
    "                    flag = False\n",
    "                    k = j-1\n",
    "                    while (data_car_st.loc[k, 'operation_train'] not in (2, 62, 22, 42)) & (k>=0): #ограничиваем интервал до предыдущей операции отправления поезда\n",
    "                        if data_car_st.loc[k, 'operation_car'] in (10,11,13,14,15,17,18,19,20,21,23,24,25,28,29):#проверяем наличие хоть одной операции разгрузки/погрузки\n",
    "                            flag = True \n",
    "                        if k > 0:\n",
    "                            k -= 1                # смотрим предыдущие записиси в интревале\n",
    "                        else:\n",
    "                            break  \n",
    "                    if flag == True:\n",
    "                        valid_inclusion_operations_indexes.append(j)\n",
    "                j-=1\n",
    "                \n",
    "            if valid_inclusion_operations_indexes : buffer.append(data_car_st.iloc[valid_inclusion_operations_indexes[0]]) # список может быть пустым, поэтому есть данное условие\n",
    "            \n",
    "    return pd.DataFrame(data = buffer).reset_index(drop = True)"
   ]
  },
  {
   "cell_type": "code",
   "execution_count": 15,
   "metadata": {},
   "outputs": [],
   "source": [
    "# возвращает стек непустых датафреймов с операциями включения,соответствующих условию, для каждого вагона на всех станциях\n",
    "def get_all_includes_by_cars(data):\n",
    "    data_cars_stack = get_data_cars(data)\n",
    "    includes_by_cars = []\n",
    "    print('Идет поиск необходимых операций включений для каждого уникального вагона из {} :'.format(len(data_cars_stack)))\n",
    "    for data_car in tqdm(data_cars_stack):\n",
    "        data_car_stations_stack = split_data_car_into_stations(data_car)\n",
    "        includes_by_car_st = [] # те, что получились здесь с разных станций я должен сложить в один датафрейм ( для каждого вагона)\n",
    "        for data_car_station in data_car_stations_stack:\n",
    "            includes_by_car_st.append(get_includes(data_car_station))\n",
    "            \n",
    "        includes_by_car_df = pd.concat([x for x in includes_by_car_st]) # соединяю датафреймы с каждой отдельной станцей в один для каждого вагона\n",
    "        includes_by_cars.append(includes_by_car_df)\n",
    "    return [df for df in includes_by_cars if not df.empty]"
   ]
  },
  {
   "cell_type": "code",
   "execution_count": 31,
   "metadata": {},
   "outputs": [],
   "source": [
    "# соединяет датафреймы друг с другом\n",
    "def get_includes_df(all_includes_by_cars):\n",
    "    df_includes = pd.concat([x for x in all_includes_by_cars])\n",
    "    print('Общее по всем вагонам количество подходящих условию операций включения составило {}'.format(df_includes.shape[0]))\n",
    "    return df_includes"
   ]
  },
  {
   "cell_type": "code",
   "execution_count": 30,
   "metadata": {
    "scrolled": true
   },
   "outputs": [
    {
     "name": "stdout",
     "output_type": "stream",
     "text": [
      "Собираются датафреймы для каждого из 441248 уникальных вагонов :\n"
     ]
    },
    {
     "data": {
      "application/vnd.jupyter.widget-view+json": {
       "model_id": "bf7ac8bcb19147ab91cd6b6a4984c7b7",
       "version_major": 2,
       "version_minor": 0
      },
      "text/plain": [
       "HBox(children=(IntProgress(value=0, max=441248), HTML(value='')))"
      ]
     },
     "metadata": {},
     "output_type": "display_data"
    },
    {
     "name": "stdout",
     "output_type": "stream",
     "text": [
      "\n",
      "Идет поиск необходимых операций включений для каждого уникального вагона из 441248 :\n"
     ]
    },
    {
     "data": {
      "application/vnd.jupyter.widget-view+json": {
       "model_id": "9e6dc95c0520418da106cbc62438594c",
       "version_major": 2,
       "version_minor": 0
      },
      "text/plain": [
       "HBox(children=(IntProgress(value=0, max=441248), HTML(value='')))"
      ]
     },
     "metadata": {},
     "output_type": "display_data"
    },
    {
     "name": "stdout",
     "output_type": "stream",
     "text": [
      "\n",
      "Wall time: 1h 7min 31s\n"
     ]
    }
   ],
   "source": [
    "%%time\n",
    "all_includes_by_cars = get_all_includes_by_cars(data)"
   ]
  },
  {
   "cell_type": "code",
   "execution_count": 32,
   "metadata": {},
   "outputs": [
    {
     "name": "stdout",
     "output_type": "stream",
     "text": [
      "Общее по всем вагонам количество подходящих условию операций включения составило 501850\n"
     ]
    }
   ],
   "source": [
    "df_includes = get_directions(all_includes_by_cars)"
   ]
  },
  {
   "cell_type": "code",
   "execution_count": 34,
   "metadata": {},
   "outputs": [],
   "source": [
    "df_includes.to_csv('df_includes.csv')"
   ]
  },
  {
   "cell_type": "code",
   "execution_count": null,
   "metadata": {},
   "outputs": [],
   "source": []
  }
 ],
 "metadata": {
  "kernelspec": {
   "display_name": "Python 3",
   "language": "python",
   "name": "python3"
  },
  "language_info": {
   "codemirror_mode": {
    "name": "ipython",
    "version": 3
   },
   "file_extension": ".py",
   "mimetype": "text/x-python",
   "name": "python",
   "nbconvert_exporter": "python",
   "pygments_lexer": "ipython3",
   "version": "3.7.4"
  }
 },
 "nbformat": 4,
 "nbformat_minor": 2
}
